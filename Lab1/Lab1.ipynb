{
 "cells": [
  {
   "cell_type": "code",
   "execution_count": 126,
   "id": "11a15455-1733-4c4e-aa92-edd5a02546f1",
   "metadata": {},
   "outputs": [],
   "source": [
    "import pandas as pd"
   ]
  },
  {
   "cell_type": "markdown",
   "id": "1acdbd85-a4ef-4017-86e4-468916837b58",
   "metadata": {},
   "source": [
    "### Load File"
   ]
  },
  {
   "cell_type": "code",
   "execution_count": 127,
   "id": "19e5b92d-1c05-45f3-a915-37c10e1183a0",
   "metadata": {},
   "outputs": [
    {
     "data": {
      "text/plain": [
       "DatetimeIndex([       '2020-09-20 11:23:15',        '2020-09-20 11:23:15',\n",
       "                      '2020-09-20 11:23:15',        '2020-09-20 11:23:15',\n",
       "                      '2020-09-20 11:23:15',        '2020-09-20 11:23:15',\n",
       "                      '2020-09-20 11:23:15',        '2020-09-20 11:23:15',\n",
       "                      '2020-09-20 11:23:15',        '2020-09-20 11:23:15',\n",
       "               ...\n",
       "               '2021-02-25 11:49:18.495000', '2021-03-02 09:51:03.899000',\n",
       "               '2021-03-02 09:51:54.879000', '2021-03-02 09:53:11.825000',\n",
       "               '2021-03-02 09:54:22.973000', '2021-03-02 09:56:35.956000',\n",
       "               '2021-03-02 10:10:18.976000', '2021-03-04 11:03:43.786000',\n",
       "               '2021-03-04 11:04:30.416000', '2021-04-05 03:18:16.644000'],\n",
       "              dtype='datetime64[ns]', name='Date time', length=3308, freq=None)"
      ]
     },
     "execution_count": 127,
     "metadata": {},
     "output_type": "execute_result"
    }
   ],
   "source": [
    "df = pd.read_excel('COVID_19.xlsx', 'Sheet1', index_col=0)\n",
    "df_orig = df.copy()\n",
    "# Index - col0 DateTimeIndex\n",
    "df.index"
   ]
  },
  {
   "cell_type": "markdown",
   "id": "460728b2-484d-4560-905c-f722a5214a6f",
   "metadata": {},
   "source": [
    "### Data Preparation"
   ]
  },
  {
   "cell_type": "code",
   "execution_count": 128,
   "id": "719c37c9-7895-4270-b078-517183911839",
   "metadata": {},
   "outputs": [],
   "source": [
    "def filter_parentheses(x):\n",
    "    str_x = str(x)\n",
    "    indx = str(x).find('(')\n",
    "    \n",
    "    return str_x.strip() if indx == -1 else str_x[:indx].strip()"
   ]
  },
  {
   "cell_type": "code",
   "execution_count": 129,
   "id": "e2e694da-932b-4189-a474-5c0a6cccd15f",
   "metadata": {},
   "outputs": [
    {
     "name": "stdout",
     "output_type": "stream",
     "text": [
      "<class 'pandas.core.frame.DataFrame'>\n",
      "DatetimeIndex: 3308 entries, 2020-09-20 11:23:15 to 2021-04-05 03:18:16.644000\n",
      "Data columns (total 13 columns):\n",
      " #   Column                                 Non-Null Count  Dtype  \n",
      "---  ------                                 --------------  -----  \n",
      " 0   Age                                    3303 non-null   object \n",
      " 1   Gender                                 3297 non-null   object \n",
      " 2   Region                                 3286 non-null   object \n",
      " 3   Do you smoke?                          3269 non-null   object \n",
      " 4   Have you had Covid`19 this year?       3305 non-null   object \n",
      " 5   IgM level                              3232 non-null   object \n",
      " 6   IgG level                              3248 non-null   object \n",
      " 7   Blood group                            3252 non-null   float64\n",
      " 8   Do you vaccinated influenza?           3294 non-null   object \n",
      " 9   Do you vaccinated tuberculosis?        3303 non-null   object \n",
      " 10  Have you had influenza this year?      3299 non-null   object \n",
      " 11  Have you had tuberculosis this year?   3299 non-null   object \n",
      " 12  Maximum body temperature               1533 non-null   float64\n",
      "dtypes: float64(2), object(11)\n",
      "memory usage: 361.8+ KB\n"
     ]
    }
   ],
   "source": [
    "df.info()\n",
    "df = df.dropna(subset=['Gender', 'Age'])\n",
    "# cast to category columns except last\n",
    "for column in df.columns[:-1]:\n",
    "    df[column] = df[column].apply(filter_parentheses).astype('category')"
   ]
  },
  {
   "cell_type": "code",
   "execution_count": 130,
   "id": "b67aa753-8fc4-49f7-a6e1-ece6f8c698b4",
   "metadata": {},
   "outputs": [
    {
     "name": "stdout",
     "output_type": "stream",
     "text": [
      "<class 'pandas.core.frame.DataFrame'>\n",
      "DatetimeIndex: 3296 entries, 2020-09-20 11:23:15 to 2021-04-05 03:18:16.644000\n",
      "Data columns (total 13 columns):\n",
      " #   Column                                 Non-Null Count  Dtype   \n",
      "---  ------                                 --------------  -----   \n",
      " 0   Age                                    3296 non-null   category\n",
      " 1   Gender                                 3296 non-null   category\n",
      " 2   Region                                 3296 non-null   category\n",
      " 3   Do you smoke?                          3296 non-null   category\n",
      " 4   Have you had Covid`19 this year?       3296 non-null   category\n",
      " 5   IgM level                              3296 non-null   category\n",
      " 6   IgG level                              3296 non-null   category\n",
      " 7   Blood group                            3296 non-null   category\n",
      " 8   Do you vaccinated influenza?           3296 non-null   category\n",
      " 9   Do you vaccinated tuberculosis?        3296 non-null   category\n",
      " 10  Have you had influenza this year?      3296 non-null   category\n",
      " 11  Have you had tuberculosis this year?   3296 non-null   category\n",
      " 12  Maximum body temperature               1528 non-null   float64 \n",
      "dtypes: category(12), float64(1)\n",
      "memory usage: 92.4 KB\n"
     ]
    }
   ],
   "source": [
    "df.info()"
   ]
  },
  {
   "cell_type": "code",
   "execution_count": 131,
   "id": "a5a41c36-bc1a-4273-b7b9-fc516a12ea48",
   "metadata": {},
   "outputs": [
    {
     "data": {
      "text/html": [
       "<div>\n",
       "<style scoped>\n",
       "    .dataframe tbody tr th:only-of-type {\n",
       "        vertical-align: middle;\n",
       "    }\n",
       "\n",
       "    .dataframe tbody tr th {\n",
       "        vertical-align: top;\n",
       "    }\n",
       "\n",
       "    .dataframe thead th {\n",
       "        text-align: right;\n",
       "    }\n",
       "</style>\n",
       "<table border=\"1\" class=\"dataframe\">\n",
       "  <thead>\n",
       "    <tr style=\"text-align: right;\">\n",
       "      <th></th>\n",
       "      <th>Age</th>\n",
       "      <th>Gender</th>\n",
       "      <th>Region</th>\n",
       "      <th>Do you smoke?</th>\n",
       "      <th>Have you had Covid`19 this year?</th>\n",
       "      <th>IgM level</th>\n",
       "      <th>IgG level</th>\n",
       "      <th>Blood group</th>\n",
       "      <th>Do you vaccinated influenza?</th>\n",
       "      <th>Do you vaccinated tuberculosis?</th>\n",
       "      <th>Have you had influenza this year?</th>\n",
       "      <th>Have you had tuberculosis this year?</th>\n",
       "      <th>Maximum body temperature</th>\n",
       "    </tr>\n",
       "    <tr>\n",
       "      <th>Date time</th>\n",
       "      <th></th>\n",
       "      <th></th>\n",
       "      <th></th>\n",
       "      <th></th>\n",
       "      <th></th>\n",
       "      <th></th>\n",
       "      <th></th>\n",
       "      <th></th>\n",
       "      <th></th>\n",
       "      <th></th>\n",
       "      <th></th>\n",
       "      <th></th>\n",
       "      <th></th>\n",
       "    </tr>\n",
       "  </thead>\n",
       "  <tbody>\n",
       "    <tr>\n",
       "      <th>2020-09-20 11:23:15</th>\n",
       "      <td>40-65</td>\n",
       "      <td>Female</td>\n",
       "      <td>Ukraine, Lviv</td>\n",
       "      <td>No</td>\n",
       "      <td>Maybe</td>\n",
       "      <td>&lt;0.9</td>\n",
       "      <td>0.9-1.1</td>\n",
       "      <td>2.0</td>\n",
       "      <td>Yes</td>\n",
       "      <td>Yes</td>\n",
       "      <td>No</td>\n",
       "      <td>No</td>\n",
       "      <td>38.1</td>\n",
       "    </tr>\n",
       "    <tr>\n",
       "      <th>2020-09-20 11:23:15</th>\n",
       "      <td>23-40</td>\n",
       "      <td>Female</td>\n",
       "      <td>Ukraine, Chernivtsi</td>\n",
       "      <td>No</td>\n",
       "      <td>Yes</td>\n",
       "      <td>&gt;1.1</td>\n",
       "      <td>0.9-1.1</td>\n",
       "      <td>2.0</td>\n",
       "      <td>No</td>\n",
       "      <td>Yes</td>\n",
       "      <td>No</td>\n",
       "      <td>No</td>\n",
       "      <td>37.0</td>\n",
       "    </tr>\n",
       "    <tr>\n",
       "      <th>2020-09-20 11:23:15</th>\n",
       "      <td>23-40</td>\n",
       "      <td>Female</td>\n",
       "      <td>Ukraine, Lviv</td>\n",
       "      <td>No</td>\n",
       "      <td>Maybe</td>\n",
       "      <td>&lt;0.9</td>\n",
       "      <td>&lt;0.9</td>\n",
       "      <td>2.0</td>\n",
       "      <td>No</td>\n",
       "      <td>Yes</td>\n",
       "      <td>Yes</td>\n",
       "      <td>No</td>\n",
       "      <td>37.8</td>\n",
       "    </tr>\n",
       "    <tr>\n",
       "      <th>2020-09-20 11:23:15</th>\n",
       "      <td>40-65</td>\n",
       "      <td>Male</td>\n",
       "      <td>Ukraine, Chernivtsi</td>\n",
       "      <td>No</td>\n",
       "      <td>No</td>\n",
       "      <td>&lt;0.9</td>\n",
       "      <td>&lt;0.9</td>\n",
       "      <td>2.0</td>\n",
       "      <td>No</td>\n",
       "      <td>Yes</td>\n",
       "      <td>No</td>\n",
       "      <td>No</td>\n",
       "      <td>NaN</td>\n",
       "    </tr>\n",
       "    <tr>\n",
       "      <th>2020-09-20 11:23:15</th>\n",
       "      <td>16-22</td>\n",
       "      <td>Male</td>\n",
       "      <td>Ukraine, Lviv</td>\n",
       "      <td>No</td>\n",
       "      <td>Yes</td>\n",
       "      <td>&gt;1.1</td>\n",
       "      <td>&lt;0.9</td>\n",
       "      <td>1.0</td>\n",
       "      <td>No</td>\n",
       "      <td>Yes</td>\n",
       "      <td>Yes</td>\n",
       "      <td>No</td>\n",
       "      <td>37.4</td>\n",
       "    </tr>\n",
       "  </tbody>\n",
       "</table>\n",
       "</div>"
      ],
      "text/plain": [
       "                       Age  Gender               Region Do you smoke?  \\\n",
       "Date time                                                               \n",
       "2020-09-20 11:23:15  40-65  Female        Ukraine, Lviv            No   \n",
       "2020-09-20 11:23:15  23-40  Female  Ukraine, Chernivtsi            No   \n",
       "2020-09-20 11:23:15  23-40  Female        Ukraine, Lviv            No   \n",
       "2020-09-20 11:23:15  40-65    Male  Ukraine, Chernivtsi            No   \n",
       "2020-09-20 11:23:15  16-22    Male        Ukraine, Lviv            No   \n",
       "\n",
       "                    Have you had Covid`19 this year? IgM level IgG level  \\\n",
       "Date time                                                                  \n",
       "2020-09-20 11:23:15                            Maybe      <0.9   0.9-1.1   \n",
       "2020-09-20 11:23:15                              Yes      >1.1   0.9-1.1   \n",
       "2020-09-20 11:23:15                            Maybe      <0.9      <0.9   \n",
       "2020-09-20 11:23:15                               No      <0.9      <0.9   \n",
       "2020-09-20 11:23:15                              Yes      >1.1      <0.9   \n",
       "\n",
       "                    Blood group Do you vaccinated influenza?  \\\n",
       "Date time                                                      \n",
       "2020-09-20 11:23:15         2.0                          Yes   \n",
       "2020-09-20 11:23:15         2.0                           No   \n",
       "2020-09-20 11:23:15         2.0                           No   \n",
       "2020-09-20 11:23:15         2.0                           No   \n",
       "2020-09-20 11:23:15         1.0                           No   \n",
       "\n",
       "                    Do you vaccinated tuberculosis?  \\\n",
       "Date time                                             \n",
       "2020-09-20 11:23:15                             Yes   \n",
       "2020-09-20 11:23:15                             Yes   \n",
       "2020-09-20 11:23:15                             Yes   \n",
       "2020-09-20 11:23:15                             Yes   \n",
       "2020-09-20 11:23:15                             Yes   \n",
       "\n",
       "                    Have you had influenza this year?  \\\n",
       "Date time                                               \n",
       "2020-09-20 11:23:15                                No   \n",
       "2020-09-20 11:23:15                                No   \n",
       "2020-09-20 11:23:15                               Yes   \n",
       "2020-09-20 11:23:15                                No   \n",
       "2020-09-20 11:23:15                               Yes   \n",
       "\n",
       "                    Have you had tuberculosis this year?   \\\n",
       "Date time                                                   \n",
       "2020-09-20 11:23:15                                    No   \n",
       "2020-09-20 11:23:15                                    No   \n",
       "2020-09-20 11:23:15                                    No   \n",
       "2020-09-20 11:23:15                                    No   \n",
       "2020-09-20 11:23:15                                    No   \n",
       "\n",
       "                     Maximum body temperature  \n",
       "Date time                                      \n",
       "2020-09-20 11:23:15                      38.1  \n",
       "2020-09-20 11:23:15                      37.0  \n",
       "2020-09-20 11:23:15                      37.8  \n",
       "2020-09-20 11:23:15                       NaN  \n",
       "2020-09-20 11:23:15                      37.4  "
      ]
     },
     "execution_count": 131,
     "metadata": {},
     "output_type": "execute_result"
    }
   ],
   "source": [
    "df.head()"
   ]
  },
  {
   "cell_type": "code",
   "execution_count": 132,
   "id": "c98d1b99-dc37-46b4-b509-dfd26cdaf990",
   "metadata": {},
   "outputs": [
    {
     "data": {
      "text/html": [
       "<div>\n",
       "<style scoped>\n",
       "    .dataframe tbody tr th:only-of-type {\n",
       "        vertical-align: middle;\n",
       "    }\n",
       "\n",
       "    .dataframe tbody tr th {\n",
       "        vertical-align: top;\n",
       "    }\n",
       "\n",
       "    .dataframe thead th {\n",
       "        text-align: right;\n",
       "    }\n",
       "</style>\n",
       "<table border=\"1\" class=\"dataframe\">\n",
       "  <thead>\n",
       "    <tr style=\"text-align: right;\">\n",
       "      <th></th>\n",
       "      <th>Maximum body temperature</th>\n",
       "    </tr>\n",
       "  </thead>\n",
       "  <tbody>\n",
       "    <tr>\n",
       "      <th>count</th>\n",
       "      <td>1528.000000</td>\n",
       "    </tr>\n",
       "    <tr>\n",
       "      <th>mean</th>\n",
       "      <td>37.710013</td>\n",
       "    </tr>\n",
       "    <tr>\n",
       "      <th>std</th>\n",
       "      <td>0.634532</td>\n",
       "    </tr>\n",
       "    <tr>\n",
       "      <th>min</th>\n",
       "      <td>36.600000</td>\n",
       "    </tr>\n",
       "    <tr>\n",
       "      <th>25%</th>\n",
       "      <td>37.200000</td>\n",
       "    </tr>\n",
       "    <tr>\n",
       "      <th>50%</th>\n",
       "      <td>37.700000</td>\n",
       "    </tr>\n",
       "    <tr>\n",
       "      <th>75%</th>\n",
       "      <td>38.300000</td>\n",
       "    </tr>\n",
       "    <tr>\n",
       "      <th>max</th>\n",
       "      <td>38.800000</td>\n",
       "    </tr>\n",
       "  </tbody>\n",
       "</table>\n",
       "</div>"
      ],
      "text/plain": [
       "       Maximum body temperature\n",
       "count               1528.000000\n",
       "mean                  37.710013\n",
       "std                    0.634532\n",
       "min                   36.600000\n",
       "25%                   37.200000\n",
       "50%                   37.700000\n",
       "75%                   38.300000\n",
       "max                   38.800000"
      ]
     },
     "execution_count": 132,
     "metadata": {},
     "output_type": "execute_result"
    }
   ],
   "source": [
    "# describe numeric fields\n",
    "df.describe()"
   ]
  },
  {
   "cell_type": "code",
   "execution_count": 133,
   "id": "abc81706-5ff6-4067-9862-eef735ff91f3",
   "metadata": {},
   "outputs": [
    {
     "data": {
      "text/html": [
       "<div>\n",
       "<style scoped>\n",
       "    .dataframe tbody tr th:only-of-type {\n",
       "        vertical-align: middle;\n",
       "    }\n",
       "\n",
       "    .dataframe tbody tr th {\n",
       "        vertical-align: top;\n",
       "    }\n",
       "\n",
       "    .dataframe thead th {\n",
       "        text-align: right;\n",
       "    }\n",
       "</style>\n",
       "<table border=\"1\" class=\"dataframe\">\n",
       "  <thead>\n",
       "    <tr style=\"text-align: right;\">\n",
       "      <th></th>\n",
       "      <th>Age</th>\n",
       "      <th>Gender</th>\n",
       "      <th>Region</th>\n",
       "      <th>Do you smoke?</th>\n",
       "      <th>Have you had Covid`19 this year?</th>\n",
       "      <th>IgM level</th>\n",
       "      <th>IgG level</th>\n",
       "      <th>Blood group</th>\n",
       "      <th>Do you vaccinated influenza?</th>\n",
       "      <th>Do you vaccinated tuberculosis?</th>\n",
       "      <th>Have you had influenza this year?</th>\n",
       "      <th>Have you had tuberculosis this year?</th>\n",
       "    </tr>\n",
       "  </thead>\n",
       "  <tbody>\n",
       "    <tr>\n",
       "      <th>count</th>\n",
       "      <td>3296</td>\n",
       "      <td>3296</td>\n",
       "      <td>3296</td>\n",
       "      <td>3296</td>\n",
       "      <td>3296</td>\n",
       "      <td>3296</td>\n",
       "      <td>3296</td>\n",
       "      <td>3296</td>\n",
       "      <td>3296</td>\n",
       "      <td>3296</td>\n",
       "      <td>3296</td>\n",
       "      <td>3296</td>\n",
       "    </tr>\n",
       "    <tr>\n",
       "      <th>unique</th>\n",
       "      <td>5</td>\n",
       "      <td>2</td>\n",
       "      <td>6</td>\n",
       "      <td>3</td>\n",
       "      <td>4</td>\n",
       "      <td>4</td>\n",
       "      <td>5</td>\n",
       "      <td>5</td>\n",
       "      <td>4</td>\n",
       "      <td>4</td>\n",
       "      <td>4</td>\n",
       "      <td>4</td>\n",
       "    </tr>\n",
       "    <tr>\n",
       "      <th>top</th>\n",
       "      <td>23-40</td>\n",
       "      <td>Female</td>\n",
       "      <td>Ukraine, Lviv</td>\n",
       "      <td>No</td>\n",
       "      <td>No</td>\n",
       "      <td>&lt;0.9</td>\n",
       "      <td>&lt;0.9</td>\n",
       "      <td>2.0</td>\n",
       "      <td>No</td>\n",
       "      <td>Yes</td>\n",
       "      <td>No</td>\n",
       "      <td>No</td>\n",
       "    </tr>\n",
       "    <tr>\n",
       "      <th>freq</th>\n",
       "      <td>1174</td>\n",
       "      <td>1817</td>\n",
       "      <td>3070</td>\n",
       "      <td>2497</td>\n",
       "      <td>1768</td>\n",
       "      <td>2651</td>\n",
       "      <td>2587</td>\n",
       "      <td>1380</td>\n",
       "      <td>2650</td>\n",
       "      <td>2578</td>\n",
       "      <td>2347</td>\n",
       "      <td>3281</td>\n",
       "    </tr>\n",
       "  </tbody>\n",
       "</table>\n",
       "</div>"
      ],
      "text/plain": [
       "          Age  Gender         Region Do you smoke?  \\\n",
       "count    3296    3296           3296          3296   \n",
       "unique      5       2              6             3   \n",
       "top     23-40  Female  Ukraine, Lviv            No   \n",
       "freq     1174    1817           3070          2497   \n",
       "\n",
       "       Have you had Covid`19 this year? IgM level IgG level Blood group  \\\n",
       "count                              3296      3296      3296        3296   \n",
       "unique                                4         4         5           5   \n",
       "top                                  No      <0.9      <0.9         2.0   \n",
       "freq                               1768      2651      2587        1380   \n",
       "\n",
       "       Do you vaccinated influenza? Do you vaccinated tuberculosis?  \\\n",
       "count                          3296                            3296   \n",
       "unique                            4                               4   \n",
       "top                              No                             Yes   \n",
       "freq                           2650                            2578   \n",
       "\n",
       "       Have you had influenza this year? Have you had tuberculosis this year?   \n",
       "count                               3296                                  3296  \n",
       "unique                                 4                                     4  \n",
       "top                                   No                                    No  \n",
       "freq                                2347                                  3281  "
      ]
     },
     "execution_count": 133,
     "metadata": {},
     "output_type": "execute_result"
    }
   ],
   "source": [
    "# describe category fields\n",
    "df.describe(include=['category'])"
   ]
  },
  {
   "cell_type": "markdown",
   "id": "3ad4ae2a-8372-4f31-9857-51efd4edefb7",
   "metadata": {},
   "source": [
    "### Static Analysis"
   ]
  },
  {
   "cell_type": "code",
   "execution_count": 134,
   "id": "12b97fce-2aa0-41f2-9f24-997ed3c15799",
   "metadata": {},
   "outputs": [
    {
     "data": {
      "text/plain": [
       "Age\n",
       "23-40    1174\n",
       "40-65    1063\n",
       "16-22     823\n",
       ">65       193\n",
       "0-15       43\n",
       "Name: count, dtype: int64"
      ]
     },
     "execution_count": 134,
     "metadata": {},
     "output_type": "execute_result"
    }
   ],
   "source": [
    "df['Age'].value_counts()"
   ]
  },
  {
   "cell_type": "code",
   "execution_count": 135,
   "id": "84b05a6b-440c-4655-b602-e4bde9a71d6d",
   "metadata": {},
   "outputs": [
    {
     "data": {
      "text/plain": [
       "Age\n",
       "23-40    0.356189\n",
       "40-65    0.322512\n",
       "16-22    0.249697\n",
       ">65      0.058556\n",
       "0-15     0.013046\n",
       "Name: proportion, dtype: float64"
      ]
     },
     "execution_count": 135,
     "metadata": {},
     "output_type": "execute_result"
    }
   ],
   "source": [
    "df['Age'].value_counts(normalize=True)"
   ]
  },
  {
   "cell_type": "code",
   "execution_count": 136,
   "id": "fe969f45-95d6-4fbe-a145-dc083d110fdd",
   "metadata": {},
   "outputs": [
    {
     "data": {
      "text/html": [
       "<div>\n",
       "<style scoped>\n",
       "    .dataframe tbody tr th:only-of-type {\n",
       "        vertical-align: middle;\n",
       "    }\n",
       "\n",
       "    .dataframe tbody tr th {\n",
       "        vertical-align: top;\n",
       "    }\n",
       "\n",
       "    .dataframe thead th {\n",
       "        text-align: right;\n",
       "    }\n",
       "</style>\n",
       "<table border=\"1\" class=\"dataframe\">\n",
       "  <thead>\n",
       "    <tr style=\"text-align: right;\">\n",
       "      <th></th>\n",
       "      <th>Age</th>\n",
       "      <th>Gender</th>\n",
       "      <th>Region</th>\n",
       "      <th>Do you smoke?</th>\n",
       "      <th>Have you had Covid`19 this year?</th>\n",
       "      <th>IgM level</th>\n",
       "      <th>IgG level</th>\n",
       "      <th>Blood group</th>\n",
       "      <th>Do you vaccinated influenza?</th>\n",
       "      <th>Do you vaccinated tuberculosis?</th>\n",
       "      <th>Have you had influenza this year?</th>\n",
       "      <th>Have you had tuberculosis this year?</th>\n",
       "      <th>Maximum body temperature</th>\n",
       "    </tr>\n",
       "    <tr>\n",
       "      <th>Date time</th>\n",
       "      <th></th>\n",
       "      <th></th>\n",
       "      <th></th>\n",
       "      <th></th>\n",
       "      <th></th>\n",
       "      <th></th>\n",
       "      <th></th>\n",
       "      <th></th>\n",
       "      <th></th>\n",
       "      <th></th>\n",
       "      <th></th>\n",
       "      <th></th>\n",
       "      <th></th>\n",
       "    </tr>\n",
       "  </thead>\n",
       "  <tbody>\n",
       "    <tr>\n",
       "      <th>2020-09-20 11:26:09.000</th>\n",
       "      <td>0-15</td>\n",
       "      <td>Male</td>\n",
       "      <td>Ukraine, Lviv</td>\n",
       "      <td>No</td>\n",
       "      <td>No</td>\n",
       "      <td>&lt;0.9</td>\n",
       "      <td>&lt;0.9</td>\n",
       "      <td>2.0</td>\n",
       "      <td>No</td>\n",
       "      <td>Yes</td>\n",
       "      <td>No</td>\n",
       "      <td>No</td>\n",
       "      <td>NaN</td>\n",
       "    </tr>\n",
       "    <tr>\n",
       "      <th>2020-09-26 11:19:25.000</th>\n",
       "      <td>0-15</td>\n",
       "      <td>Male</td>\n",
       "      <td>Ukraine, Lviv</td>\n",
       "      <td>No</td>\n",
       "      <td>No</td>\n",
       "      <td>&lt;0.9</td>\n",
       "      <td>&lt;0.9</td>\n",
       "      <td>4.0</td>\n",
       "      <td>No</td>\n",
       "      <td>No</td>\n",
       "      <td>Yes</td>\n",
       "      <td>No</td>\n",
       "      <td>NaN</td>\n",
       "    </tr>\n",
       "    <tr>\n",
       "      <th>2020-09-26 11:42:15.000</th>\n",
       "      <td>0-15</td>\n",
       "      <td>Male</td>\n",
       "      <td>Ukraine, Lviv</td>\n",
       "      <td>No</td>\n",
       "      <td>Maybe</td>\n",
       "      <td>&lt;0.9</td>\n",
       "      <td>0.9-1.1</td>\n",
       "      <td>1.0</td>\n",
       "      <td>No</td>\n",
       "      <td>Yes</td>\n",
       "      <td>Maybe</td>\n",
       "      <td>No</td>\n",
       "      <td>38.7</td>\n",
       "    </tr>\n",
       "    <tr>\n",
       "      <th>2020-10-09 19:35:56.393</th>\n",
       "      <td>0-15</td>\n",
       "      <td>Male</td>\n",
       "      <td>Ukraine, Lviv</td>\n",
       "      <td>No</td>\n",
       "      <td>No</td>\n",
       "      <td>&lt;0.9</td>\n",
       "      <td>&lt;0.9</td>\n",
       "      <td>4.0</td>\n",
       "      <td>No</td>\n",
       "      <td>No</td>\n",
       "      <td>Yes</td>\n",
       "      <td>No</td>\n",
       "      <td>NaN</td>\n",
       "    </tr>\n",
       "    <tr>\n",
       "      <th>2020-11-24 10:55:41.181</th>\n",
       "      <td>0-15</td>\n",
       "      <td>Male</td>\n",
       "      <td>Ukraine, Lviv</td>\n",
       "      <td>No</td>\n",
       "      <td>No</td>\n",
       "      <td>&lt;0.9</td>\n",
       "      <td>0.9-1.1</td>\n",
       "      <td>1.0</td>\n",
       "      <td>No</td>\n",
       "      <td>Yes</td>\n",
       "      <td>No</td>\n",
       "      <td>No</td>\n",
       "      <td>NaN</td>\n",
       "    </tr>\n",
       "  </tbody>\n",
       "</table>\n",
       "</div>"
      ],
      "text/plain": [
       "                          Age Gender         Region Do you smoke?  \\\n",
       "Date time                                                           \n",
       "2020-09-20 11:26:09.000  0-15   Male  Ukraine, Lviv            No   \n",
       "2020-09-26 11:19:25.000  0-15   Male  Ukraine, Lviv            No   \n",
       "2020-09-26 11:42:15.000  0-15   Male  Ukraine, Lviv            No   \n",
       "2020-10-09 19:35:56.393  0-15   Male  Ukraine, Lviv            No   \n",
       "2020-11-24 10:55:41.181  0-15   Male  Ukraine, Lviv            No   \n",
       "\n",
       "                        Have you had Covid`19 this year? IgM level IgG level  \\\n",
       "Date time                                                                      \n",
       "2020-09-20 11:26:09.000                               No      <0.9      <0.9   \n",
       "2020-09-26 11:19:25.000                               No      <0.9      <0.9   \n",
       "2020-09-26 11:42:15.000                            Maybe      <0.9   0.9-1.1   \n",
       "2020-10-09 19:35:56.393                               No      <0.9      <0.9   \n",
       "2020-11-24 10:55:41.181                               No      <0.9   0.9-1.1   \n",
       "\n",
       "                        Blood group Do you vaccinated influenza?  \\\n",
       "Date time                                                          \n",
       "2020-09-20 11:26:09.000         2.0                           No   \n",
       "2020-09-26 11:19:25.000         4.0                           No   \n",
       "2020-09-26 11:42:15.000         1.0                           No   \n",
       "2020-10-09 19:35:56.393         4.0                           No   \n",
       "2020-11-24 10:55:41.181         1.0                           No   \n",
       "\n",
       "                        Do you vaccinated tuberculosis?  \\\n",
       "Date time                                                 \n",
       "2020-09-20 11:26:09.000                             Yes   \n",
       "2020-09-26 11:19:25.000                              No   \n",
       "2020-09-26 11:42:15.000                             Yes   \n",
       "2020-10-09 19:35:56.393                              No   \n",
       "2020-11-24 10:55:41.181                             Yes   \n",
       "\n",
       "                        Have you had influenza this year?  \\\n",
       "Date time                                                   \n",
       "2020-09-20 11:26:09.000                                No   \n",
       "2020-09-26 11:19:25.000                               Yes   \n",
       "2020-09-26 11:42:15.000                             Maybe   \n",
       "2020-10-09 19:35:56.393                               Yes   \n",
       "2020-11-24 10:55:41.181                                No   \n",
       "\n",
       "                        Have you had tuberculosis this year?   \\\n",
       "Date time                                                       \n",
       "2020-09-20 11:26:09.000                                    No   \n",
       "2020-09-26 11:19:25.000                                    No   \n",
       "2020-09-26 11:42:15.000                                    No   \n",
       "2020-10-09 19:35:56.393                                    No   \n",
       "2020-11-24 10:55:41.181                                    No   \n",
       "\n",
       "                         Maximum body temperature  \n",
       "Date time                                          \n",
       "2020-09-20 11:26:09.000                       NaN  \n",
       "2020-09-26 11:19:25.000                       NaN  \n",
       "2020-09-26 11:42:15.000                      38.7  \n",
       "2020-10-09 19:35:56.393                       NaN  \n",
       "2020-11-24 10:55:41.181                       NaN  "
      ]
     },
     "execution_count": 136,
     "metadata": {},
     "output_type": "execute_result"
    }
   ],
   "source": [
    "# Sorting\n",
    "df.sort_values(by=['Age', 'Gender'], ascending=[True, False]).head()"
   ]
  },
  {
   "cell_type": "markdown",
   "id": "eea27ed0-a30b-49e5-8357-35c22e2ff84c",
   "metadata": {},
   "source": [
    "### Data modification"
   ]
  },
  {
   "cell_type": "code",
   "execution_count": 137,
   "id": "4d317f31-11d6-4755-9726-40529171f175",
   "metadata": {},
   "outputs": [
    {
     "data": {
      "text/plain": [
       "CategoricalIndex(['Female', 'Male'], categories=['Female', 'Male'], ordered=False, dtype='category', name='Gender')"
      ]
     },
     "execution_count": 137,
     "metadata": {},
     "output_type": "execute_result"
    }
   ],
   "source": [
    "# unique\n",
    "df['Gender'].value_counts().keys()"
   ]
  },
  {
   "cell_type": "code",
   "execution_count": 138,
   "id": "1680a1b3-ae9e-4b03-b9f7-3bfa1ae54c51",
   "metadata": {},
   "outputs": [
    {
     "data": {
      "text/plain": [
       "37.70652790917691"
      ]
     },
     "execution_count": 138,
     "metadata": {},
     "output_type": "execute_result"
    }
   ],
   "source": [
    "# Avg female temperature\n",
    "df[df['Gender'] == 'Female']['Maximum body temperature'].mean()"
   ]
  },
  {
   "cell_type": "code",
   "execution_count": 139,
   "id": "fcd77f71-c5eb-4feb-a953-f9a79dfc78dc",
   "metadata": {},
   "outputs": [
    {
     "data": {
      "text/plain": [
       "38.8"
      ]
     },
     "execution_count": 139,
     "metadata": {},
     "output_type": "execute_result"
    }
   ],
   "source": [
    "# Max smoking male temperature\n",
    "df[\n",
    "    (df['Gender'] == 'Male')\n",
    "    & (df['Do you smoke?'] == 'Yes')\n",
    "    & (df['Have you had Covid`19 this year?'] == 'Yes')\n",
    "]['Maximum body temperature'].max()"
   ]
  },
  {
   "cell_type": "code",
   "execution_count": 140,
   "id": "7ea08aaf-97c9-44e2-9ef2-ebe5ad1943aa",
   "metadata": {},
   "outputs": [
    {
     "data": {
      "text/html": [
       "<div>\n",
       "<style scoped>\n",
       "    .dataframe tbody tr th:only-of-type {\n",
       "        vertical-align: middle;\n",
       "    }\n",
       "\n",
       "    .dataframe tbody tr th {\n",
       "        vertical-align: top;\n",
       "    }\n",
       "\n",
       "    .dataframe thead th {\n",
       "        text-align: right;\n",
       "    }\n",
       "</style>\n",
       "<table border=\"1\" class=\"dataframe\">\n",
       "  <thead>\n",
       "    <tr style=\"text-align: right;\">\n",
       "      <th></th>\n",
       "      <th>count</th>\n",
       "      <th>mean</th>\n",
       "      <th>std</th>\n",
       "      <th>min</th>\n",
       "      <th>25%</th>\n",
       "      <th>50%</th>\n",
       "      <th>75%</th>\n",
       "      <th>max</th>\n",
       "    </tr>\n",
       "    <tr>\n",
       "      <th>Gender</th>\n",
       "      <th></th>\n",
       "      <th></th>\n",
       "      <th></th>\n",
       "      <th></th>\n",
       "      <th></th>\n",
       "      <th></th>\n",
       "      <th></th>\n",
       "      <th></th>\n",
       "    </tr>\n",
       "  </thead>\n",
       "  <tbody>\n",
       "    <tr>\n",
       "      <th>Female</th>\n",
       "      <td>1057.0</td>\n",
       "      <td>37.706528</td>\n",
       "      <td>0.625307</td>\n",
       "      <td>36.6</td>\n",
       "      <td>37.2</td>\n",
       "      <td>37.7</td>\n",
       "      <td>38.2</td>\n",
       "      <td>38.8</td>\n",
       "    </tr>\n",
       "    <tr>\n",
       "      <th>Male</th>\n",
       "      <td>471.0</td>\n",
       "      <td>37.717834</td>\n",
       "      <td>0.655371</td>\n",
       "      <td>36.6</td>\n",
       "      <td>37.1</td>\n",
       "      <td>37.7</td>\n",
       "      <td>38.3</td>\n",
       "      <td>38.8</td>\n",
       "    </tr>\n",
       "  </tbody>\n",
       "</table>\n",
       "</div>"
      ],
      "text/plain": [
       "         count       mean       std   min   25%   50%   75%   max\n",
       "Gender                                                           \n",
       "Female  1057.0  37.706528  0.625307  36.6  37.2  37.7  38.2  38.8\n",
       "Male     471.0  37.717834  0.655371  36.6  37.1  37.7  38.3  38.8"
      ]
     },
     "execution_count": 140,
     "metadata": {},
     "output_type": "execute_result"
    }
   ],
   "source": [
    "# Group\n",
    "df.groupby(['Gender'])['Maximum body temperature'].describe()"
   ]
  },
  {
   "cell_type": "markdown",
   "id": "92208511-b79e-4bff-a379-1d9a7d9aa14e",
   "metadata": {},
   "source": [
    "### Tables"
   ]
  },
  {
   "cell_type": "code",
   "execution_count": 141,
   "id": "04897a56-cf98-4392-8b24-37244e236c4a",
   "metadata": {},
   "outputs": [
    {
     "data": {
      "text/html": [
       "<div>\n",
       "<style scoped>\n",
       "    .dataframe tbody tr th:only-of-type {\n",
       "        vertical-align: middle;\n",
       "    }\n",
       "\n",
       "    .dataframe tbody tr th {\n",
       "        vertical-align: top;\n",
       "    }\n",
       "\n",
       "    .dataframe thead th {\n",
       "        text-align: right;\n",
       "    }\n",
       "</style>\n",
       "<table border=\"1\" class=\"dataframe\">\n",
       "  <thead>\n",
       "    <tr style=\"text-align: right;\">\n",
       "      <th>Gender</th>\n",
       "      <th>Female</th>\n",
       "      <th>Male</th>\n",
       "    </tr>\n",
       "    <tr>\n",
       "      <th>Age</th>\n",
       "      <th></th>\n",
       "      <th></th>\n",
       "    </tr>\n",
       "  </thead>\n",
       "  <tbody>\n",
       "    <tr>\n",
       "      <th>0-15</th>\n",
       "      <td>15</td>\n",
       "      <td>28</td>\n",
       "    </tr>\n",
       "    <tr>\n",
       "      <th>16-22</th>\n",
       "      <td>266</td>\n",
       "      <td>557</td>\n",
       "    </tr>\n",
       "    <tr>\n",
       "      <th>23-40</th>\n",
       "      <td>645</td>\n",
       "      <td>529</td>\n",
       "    </tr>\n",
       "    <tr>\n",
       "      <th>40-65</th>\n",
       "      <td>795</td>\n",
       "      <td>268</td>\n",
       "    </tr>\n",
       "    <tr>\n",
       "      <th>&gt;65</th>\n",
       "      <td>96</td>\n",
       "      <td>97</td>\n",
       "    </tr>\n",
       "  </tbody>\n",
       "</table>\n",
       "</div>"
      ],
      "text/plain": [
       "Gender  Female  Male\n",
       "Age                 \n",
       "0-15        15    28\n",
       "16-22      266   557\n",
       "23-40      645   529\n",
       "40-65      795   268\n",
       ">65         96    97"
      ]
     },
     "execution_count": 141,
     "metadata": {},
     "output_type": "execute_result"
    }
   ],
   "source": [
    "# Crosstab\n",
    "pd.crosstab(df['Age'], df['Gender'])"
   ]
  },
  {
   "cell_type": "code",
   "execution_count": 142,
   "id": "7ba3d1d8-c29f-4eea-8d06-fc5d57e11013",
   "metadata": {},
   "outputs": [
    {
     "data": {
      "text/html": [
       "<div>\n",
       "<style scoped>\n",
       "    .dataframe tbody tr th:only-of-type {\n",
       "        vertical-align: middle;\n",
       "    }\n",
       "\n",
       "    .dataframe tbody tr th {\n",
       "        vertical-align: top;\n",
       "    }\n",
       "\n",
       "    .dataframe thead th {\n",
       "        text-align: right;\n",
       "    }\n",
       "</style>\n",
       "<table border=\"1\" class=\"dataframe\">\n",
       "  <thead>\n",
       "    <tr style=\"text-align: right;\">\n",
       "      <th>Gender</th>\n",
       "      <th>Female</th>\n",
       "      <th>Male</th>\n",
       "      <th>All</th>\n",
       "    </tr>\n",
       "    <tr>\n",
       "      <th>Age</th>\n",
       "      <th></th>\n",
       "      <th></th>\n",
       "      <th></th>\n",
       "    </tr>\n",
       "  </thead>\n",
       "  <tbody>\n",
       "    <tr>\n",
       "      <th>0-15</th>\n",
       "      <td>38.500000</td>\n",
       "      <td>37.437500</td>\n",
       "      <td>37.555556</td>\n",
       "    </tr>\n",
       "    <tr>\n",
       "      <th>16-22</th>\n",
       "      <td>37.731579</td>\n",
       "      <td>37.790196</td>\n",
       "      <td>37.746305</td>\n",
       "    </tr>\n",
       "    <tr>\n",
       "      <th>23-40</th>\n",
       "      <td>37.759053</td>\n",
       "      <td>37.754680</td>\n",
       "      <td>37.757473</td>\n",
       "    </tr>\n",
       "    <tr>\n",
       "      <th>40-65</th>\n",
       "      <td>37.679435</td>\n",
       "      <td>37.690780</td>\n",
       "      <td>37.681947</td>\n",
       "    </tr>\n",
       "    <tr>\n",
       "      <th>&gt;65</th>\n",
       "      <td>37.502041</td>\n",
       "      <td>37.642647</td>\n",
       "      <td>37.583761</td>\n",
       "    </tr>\n",
       "    <tr>\n",
       "      <th>All</th>\n",
       "      <td>37.706528</td>\n",
       "      <td>37.717834</td>\n",
       "      <td>37.710013</td>\n",
       "    </tr>\n",
       "  </tbody>\n",
       "</table>\n",
       "</div>"
      ],
      "text/plain": [
       "Gender     Female       Male        All\n",
       "Age                                    \n",
       "0-15    38.500000  37.437500  37.555556\n",
       "16-22   37.731579  37.790196  37.746305\n",
       "23-40   37.759053  37.754680  37.757473\n",
       "40-65   37.679435  37.690780  37.681947\n",
       ">65     37.502041  37.642647  37.583761\n",
       "All     37.706528  37.717834  37.710013"
      ]
     },
     "execution_count": 142,
     "metadata": {},
     "output_type": "execute_result"
    }
   ],
   "source": [
    "# Pivot table\n",
    "pd.pivot_table(df, values= 'Maximum body temperature', index= ['Age'], columns=['Gender'], aggfunc='mean', margins=True)"
   ]
  },
  {
   "cell_type": "markdown",
   "id": "b9528fd4-9b14-4b2d-916c-0c632b7bba58",
   "metadata": {},
   "source": [
    "### Data Visualization"
   ]
  },
  {
   "cell_type": "code",
   "execution_count": 143,
   "id": "331b1c88-2e62-4f7c-9e30-2de155421338",
   "metadata": {},
   "outputs": [],
   "source": [
    "import matplotlib.pyplot as plt\n",
    "import seaborn as sns"
   ]
  },
  {
   "cell_type": "code",
   "execution_count": 144,
   "id": "1ae3342e-265b-40c5-b43b-778cafe09e28",
   "metadata": {},
   "outputs": [
    {
     "data": {
      "text/plain": [
       "<Axes: xlabel='Age', ylabel='count'>"
      ]
     },
     "execution_count": 144,
     "metadata": {},
     "output_type": "execute_result"
    },
    {
     "data": {
      "image/png": "[encoded data removed]",
      "text/plain": [
       "<Figure size 640x480 with 1 Axes>"
      ]
     },
     "metadata": {},
     "output_type": "display_data"
    }
   ],
   "source": [
    "# Count plot\n",
    "sns.countplot(x='Age', hue='Gender', data=df)"
   ]
  },
  {
   "cell_type": "code",
   "execution_count": 145,
   "id": "913e384b-5799-4413-8ab2-d0979b4d1565",
   "metadata": {},
   "outputs": [
    {
     "data": {
      "text/plain": [
       "<Axes: xlabel='Date time'>"
      ]
     },
     "execution_count": 145,
     "metadata": {},
     "output_type": "execute_result"
    },
    {
     "data": {
      "image/png": "[encoded data removed]",
      "text/plain": [
       "<Figure size 640x480 with 1 Axes>"
      ]
     },
     "metadata": {},
     "output_type": "display_data"
    }
   ],
   "source": [
    "# category type does not support sum operations, use original dataframe\n",
    "df_orig.resample('D').sum().plot()"
   ]
  },
  {
   "cell_type": "code",
   "execution_count": 146,
   "id": "acb66fad-e849-4a94-914d-77e59b899f00",
   "metadata": {},
   "outputs": [
    {
     "data": {
      "text/plain": [
       "<Axes: xlabel='Maximum body temperature', ylabel='Count'>"
      ]
     },
     "execution_count": 146,
     "metadata": {},
     "output_type": "execute_result"
    },
    {
     "data": {
      "image/png": "[encoded data removed]",
      "text/plain": [
       "<Figure size 1600x600 with 2 Axes>"
      ]
     },
     "metadata": {},
     "output_type": "display_data"
    }
   ],
   "source": [
    "# Histplot\n",
    "_, axes = plt.subplots(1, 2, sharey=True, figsize=(16,6))\n",
    "\n",
    "df_t1 = df[df['Have you had Covid`19 this year?'] == 'Yes'].dropna(subset=['Maximum body temperature'])\n",
    "sns.histplot(df_t1['Maximum body temperature'], ax=axes[0])\n",
    "df_t2 = df[df['Have you had Covid`19 this year?'] == 'Maybe'].dropna(subset=['Maximum body temperature'])\n",
    "sns.histplot(df_t2['Maximum body temperature'], ax=axes[1])"
   ]
  },
  {
   "cell_type": "code",
   "execution_count": 147,
   "id": "8e1549b3-fbd2-491c-9b56-dba05fc48e87",
   "metadata": {},
   "outputs": [
    {
     "data": {
      "text/plain": [
       "<Axes: xlabel='Maximum body temperature', ylabel='Age'>"
      ]
     },
     "execution_count": 147,
     "metadata": {},
     "output_type": "execute_result"
    },
    {
     "data": {
      "image/png": "[encoded data removed]",
      "text/plain": [
       "<Figure size 1600x600 with 2 Axes>"
      ]
     },
     "metadata": {},
     "output_type": "display_data"
    }
   ],
   "source": [
    "# boxplot and vioinplot\n",
    "\n",
    "# drop index to avoid error 'cannot reindex on an axis with duplicate labels`\n",
    "df_v = df.reset_index(drop=True)\n",
    "_, axes = plt.subplots(1, 2, sharey=True, figsize=(16,6))\n",
    "sns.boxplot(y = df_v[\"Age\"], x=df_v[\"Maximum body temperature\"], ax=axes[0])\n",
    "sns.violinplot(y = df_v[\"Age\"], x=df_v[\"Maximum body temperature\"],ax=axes[1] )"
   ]
  }
 ],
 "metadata": {
  "kernelspec": {
   "display_name": "Python 3 (ipykernel)",
   "language": "python",
   "name": "python3"
  },
  "language_info": {
   "codemirror_mode": {
    "name": "ipython",
    "version": 3
   },
   "file_extension": ".py",
   "mimetype": "text/x-python",
   "name": "python",
   "nbconvert_exporter": "python",
   "pygments_lexer": "ipython3",
   "version": "3.8.10"
  }
 },
 "nbformat": 4,
 "nbformat_minor": 5
}
