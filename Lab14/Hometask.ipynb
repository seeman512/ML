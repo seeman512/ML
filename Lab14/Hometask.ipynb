{
 "cells": [
  {
   "cell_type": "markdown",
   "id": "3c95a398-2eea-4588-b08e-df3b0073dfe8",
   "metadata": {},
   "source": [
    "## Robo Cleaner"
   ]
  },
  {
   "cell_type": "code",
   "execution_count": 340,
   "id": "a4073626-f247-4a73-b655-203cf6ba209f",
   "metadata": {},
   "outputs": [],
   "source": [
    "from collections import defaultdict\n",
    "import time\n",
    "import math\n",
    "from IPython.display import HTML, display, clear_output\n",
    "import random\n",
    "import gym\n",
    "from gym import spaces\n",
    "import numpy as np\n",
    "import pandas as pd\n",
    "\n",
    "ATTEMPTS = 200\n",
    "MAX_PENALTY = -10.0\n",
    "\n",
    "# C  - Cleaner\n",
    "# .  - Not visited cell\n",
    "# #  - Wall\n",
    "# V  - Visited cell\n",
    "ROOM = [\n",
    "    ['.', '.', '.', '.', '.'],\n",
    "    ['.', '#', '#', '.', 'C'],\n",
    "    ['.', '#', '.', '.', '.'],\n",
    "    ['.', '.', '.', '#', '.'],\n",
    "    ['.', '.', '.', '.', '.'],\n",
    "]"
   ]
  },
  {
   "cell_type": "code",
   "execution_count": 341,
   "id": "37f53492-089b-46e2-8cb8-8cee4052ac0d",
   "metadata": {},
   "outputs": [
    {
     "data": {
      "text/html": [
       "<style type=\"text/css\">\n",
       "    table.room, table.room td{\n",
       "        border: 1px solid black;\n",
       "        font-size: 19px;\n",
       "        text-align: center !important;\n",
       "        vertical-align: middle;\n",
       "        width: 20px;\n",
       "        height: 20px\n",
       "    }\n",
       "    table.room td.not_visited {\n",
       "        background: lightgray\n",
       "    }\n",
       "    table.room td.visited {\n",
       "        background: purple\n",
       "    }\n",
       "    table.room td.wall {\n",
       "        background: lightblue\n",
       "    }\n",
       "    table.room td.cleaner {\n",
       "        background: yellow\n",
       "    }\n",
       "    table.room tr {\n",
       "        background: none !important\n",
       "    }\n",
       "</style>\n"
      ],
      "text/plain": [
       "<IPython.core.display.HTML object>"
      ]
     },
     "metadata": {},
     "output_type": "display_data"
    }
   ],
   "source": [
    "%%HTML\n",
    "<style type=\"text/css\">\n",
    "    table.room, table.room td{\n",
    "        border: 1px solid black;\n",
    "        font-size: 19px;\n",
    "        text-align: center !important;\n",
    "        vertical-align: middle;\n",
    "        width: 20px;\n",
    "        height: 20px\n",
    "    }\n",
    "    table.room td.not_visited {\n",
    "        background: lightgray\n",
    "    }\n",
    "    table.room td.visited {\n",
    "        background: purple\n",
    "    }\n",
    "    table.room td.wall {\n",
    "        background: lightblue\n",
    "    }\n",
    "    table.room td.cleaner {\n",
    "        background: yellow\n",
    "    }\n",
    "    table.room tr {\n",
    "        background: none !important\n",
    "    }\n",
    "</style>"
   ]
  },
  {
   "cell_type": "markdown",
   "id": "86c4dbe5-69f2-4882-9445-93e6c187b343",
   "metadata": {},
   "source": [
    "### Classes And Functions"
   ]
  },
  {
   "cell_type": "code",
   "execution_count": 342,
   "id": "cf692095-e7d8-47f3-8308-4bd4b1a313bc",
   "metadata": {},
   "outputs": [],
   "source": [
    "class RoomEnv(gym.Env):\n",
    "    def __init__(self, room):\n",
    "        super(RoomEnv, self).__init__()\n",
    "        self.room_orig = room\n",
    "        self.reset()\n",
    "\n",
    "    def reset(self):\n",
    "        self.room = np.array(self.room_orig)\n",
    "        self.start_pos = np.where(self.room == 'C')\n",
    "        self.current_pos = self.start_pos\n",
    "        self.rows, self.cols = self.room.shape\n",
    "\n",
    "        self.visited = 0\n",
    "        self.to_visit = len(np.where(self.room == '.')[0])\n",
    "\n",
    "        self.visited_map = defaultdict(lambda :0)\n",
    "\n",
    "        # 4 possible actions: 0=up, 1=down, 2=left, 3=right\n",
    "        self.action_space = spaces.Discrete(4)\n",
    "\n",
    "        # Observation space is grid of size:rows x columns\n",
    "        self.observation_space = spaces.Tuple((spaces.Discrete(self.rows), spaces.Discrete(self.cols)))\n",
    "\n",
    "        self.epoch = 0\n",
    "        self.penalties = 0\n",
    "\n",
    "        return self.current_pos\n",
    "    def step(self, action):\n",
    "        self.epoch += 1\n",
    "        new_pos = np.array(self.current_pos)\n",
    "\n",
    "        if action == 0:  # Up\n",
    "            new_pos[0] -= 1\n",
    "        elif action == 1:  # Down\n",
    "            new_pos[0] += 1\n",
    "        elif action == 2:  # Left\n",
    "            new_pos[1] -= 1\n",
    "        elif action == 3:  # Right\n",
    "            new_pos[1] += 1\n",
    "\n",
    "        done = False\n",
    "        reward = 0.0\n",
    "\n",
    "        if self._is_valid_position(new_pos):\n",
    "            old_pos = np.array(self.current_pos)\n",
    "            self.current_pos = new_pos\n",
    "\n",
    "            r_new, c_new = new_pos[0][0], new_pos[1][0]\n",
    "            r_old, c_old = old_pos[0][0], old_pos[1][0]\n",
    "\n",
    "            ch = self.room[r_new, c_new]\n",
    "            key = \"_\".join([str(r_new), str(c_new)])\n",
    "\n",
    "            self.room[r_old, c_old] = 'V'\n",
    "            self.room[r_new, c_new] = 'C'\n",
    "\n",
    "            if ch == '.':\n",
    "                reward = 1.0\n",
    "                self.visited = self.visited + 1\n",
    "\n",
    "                self.visited_map[key] = 1\n",
    "                if self.visited == self.to_visit:\n",
    "                    done = True\n",
    "            else:\n",
    "                old_val = self.visited_map[key]\n",
    "                reward = -0.5 - old_val * 0.5\n",
    "                self.visited_map[key] = old_val + 1\n",
    "        else:\n",
    "            reward = MAX_PENALTY\n",
    "            self.penalties += 1\n",
    "\n",
    "        return self.current_pos, reward, done, {}\n",
    "        \n",
    "    def _is_valid_position(self, pos):\n",
    "        row, col = pos\n",
    "\n",
    "        # If agent goes out of the grid\n",
    "        if row < 0 or col < 0 or row >= self.rows or col >= self.cols:\n",
    "            return False\n",
    "\n",
    "        # If the agent hits an obstacle\n",
    "        if self.room[row, col] == '#':\n",
    "            return False\n",
    "        return True\n",
    "\n",
    "    def render(self):\n",
    "        header = \"<b>Epoch</b>: %d; <b>Penalties</b>: %d\" % (self.epoch, self.penalties) \n",
    "        trs = []\n",
    "        classes = {\n",
    "            '.': 'not_visited',\n",
    "            '#': 'wall',\n",
    "            'C': 'cleaner',\n",
    "            'V': 'visited'\n",
    "        }\n",
    "        for row in self.room:\n",
    "            tr = \"<tr>\"\n",
    "            for col in row:\n",
    "                tr += \"<td class='\" + classes[col] + \"'>\" + col + \"</td>\"\n",
    "            tr += \"</tr>\"\n",
    "            trs.append(tr)\n",
    "        display(HTML(header + \"<table class='room'>\" + \"\".join(trs) + \"</table>\"))\n",
    "        # print(self.room)\n",
    "\n",
    "\n",
    "class Attempts:\n",
    "    def __init__(self, name):\n",
    "        self.name = name\n",
    "\n",
    "        self.attempts = []\n",
    "\n",
    "    def add_attempt(self):\n",
    "        self.attempts.append({\"epochs\": 0, \"penalties\": 0, \"actions\": []})\n",
    "        return len(self.attempts) - 1\n",
    "\n",
    "    def add_epoch(self, attempt=None):\n",
    "        if attempt is None:\n",
    "            attempt = self._last_attempt()\n",
    "        self.attempts[attempt][\"epochs\"] += 1\n",
    "\n",
    "    def add_penalty(self, attempt=None):\n",
    "        if attempt is None:\n",
    "            attempt = self._last_attempt()\n",
    "        self.attempts[attempt][\"penalties\"] += 1\n",
    "\n",
    "    def add_action(self, action, attempt=None):\n",
    "        if attempt is None:\n",
    "            attempt = self._last_attempt()\n",
    "        self.attempts[attempt][\"actions\"].append(action)\n",
    "\n",
    "    def best_attempt(self):\n",
    "        return sorted(self.attempts, key=lambda a: a[\"epochs\"])[0]\n",
    "\n",
    "    def _last_attempt(self):\n",
    "        return len(self.attempts) - 1\n",
    "\n",
    "    def metrics(self):\n",
    "        metrics = {\n",
    "            \"min_epochs\": math.inf,\n",
    "            \"avg_epochs\": 0,\n",
    "            \"avg_penalties\": 0,\n",
    "            \"min_penalties\": math.inf,\n",
    "            \"name\": self.name\n",
    "        }\n",
    "        penalties = 0\n",
    "        epochs = 0\n",
    "\n",
    "        for attempt in self.attempts:\n",
    "            penalties += attempt[\"penalties\"]\n",
    "            epochs += attempt[\"epochs\"]\n",
    "            if attempt[\"epochs\"] < metrics[\"min_epochs\"]:\n",
    "                metrics[\"min_epochs\"] = attempt[\"epochs\"]\n",
    "            if attempt[\"penalties\"] < metrics[\"min_penalties\"]:\n",
    "                metrics[\"min_penalties\"] = attempt[\"penalties\"]\n",
    "        metrics[\"avg_epochs\"] = epochs / len(self.attempts)\n",
    "        metrics[\"avg_penalties\"] = penalties / len(self.attempts)\n",
    "\n",
    "        return metrics"
   ]
  },
  {
   "cell_type": "code",
   "execution_count": 343,
   "id": "cc9a5558-645f-4e65-8984-7ffbb03f72b8",
   "metadata": {},
   "outputs": [],
   "source": [
    "def state_to_index(state, rows):\n",
    "    return rows * state[0][0] + state[1][0]\n",
    "\n",
    "def show_attempt(actions, delay=0.2):\n",
    "    env = RoomEnv(ROOM)\n",
    "\n",
    "    env.render()\n",
    "    for action in actions:\n",
    "        next_state, reward, done, info = env.step(action)\n",
    "        clear_output(wait=True)\n",
    "        env.render()\n",
    "        time.sleep(delay)"
   ]
  },
  {
   "cell_type": "markdown",
   "id": "9ee25bc1-f8b8-4a82-a1c5-9b39b8bcc1cf",
   "metadata": {},
   "source": [
    "### Bruteforce"
   ]
  },
  {
   "cell_type": "code",
   "execution_count": 344,
   "id": "0ab0c37f-4ca1-4249-8642-f58e04957555",
   "metadata": {},
   "outputs": [],
   "source": [
    "def brute_force():\n",
    "    env = RoomEnv(ROOM)\n",
    "    attempts = Attempts('BRUTE FORCE')\n",
    "    \n",
    "    for attempt in range(ATTEMPTS):\n",
    "        env.reset()\n",
    "        attempt = attempts.add_attempt()\n",
    "        while True:\n",
    "            action = env.action_space.sample()  # Random action\n",
    "            attempts.add_action(action)\n",
    "            next_state, reward, done, info = env.step(action)\n",
    "                \n",
    "            attempts.add_epoch()           \n",
    "            if reward == MAX_PENALTY:\n",
    "                attempts.add_penalty()\n",
    "\n",
    "            if done:\n",
    "                break\n",
    "    return attempts"
   ]
  },
  {
   "cell_type": "code",
   "execution_count": 345,
   "id": "16dc29f3-a0ea-4734-93bf-c0766c1de7e5",
   "metadata": {},
   "outputs": [],
   "source": [
    "bf_attempts = brute_force()"
   ]
  },
  {
   "cell_type": "code",
   "execution_count": 346,
   "id": "ffbb44cf-c637-4c7f-9c4b-74ef7a102542",
   "metadata": {},
   "outputs": [
    {
     "data": {
      "text/html": [
       "<b>Epoch</b>: 72; <b>Penalties</b>: 23<table class='room'><tr><td class='visited'>V</td><td class='visited'>V</td><td class='cleaner'>C</td><td class='visited'>V</td><td class='visited'>V</td></tr><tr><td class='visited'>V</td><td class='wall'>#</td><td class='wall'>#</td><td class='visited'>V</td><td class='visited'>V</td></tr><tr><td class='visited'>V</td><td class='wall'>#</td><td class='visited'>V</td><td class='visited'>V</td><td class='visited'>V</td></tr><tr><td class='visited'>V</td><td class='visited'>V</td><td class='visited'>V</td><td class='wall'>#</td><td class='visited'>V</td></tr><tr><td class='visited'>V</td><td class='visited'>V</td><td class='visited'>V</td><td class='visited'>V</td><td class='visited'>V</td></tr></table>"
      ],
      "text/plain": [
       "<IPython.core.display.HTML object>"
      ]
     },
     "metadata": {},
     "output_type": "display_data"
    }
   ],
   "source": [
    "show_attempt(bf_attempts.best_attempt()[\"actions\"])"
   ]
  },
  {
   "cell_type": "markdown",
   "id": "50cd71f0-add1-4a5a-abdd-a2e4aeed4c4c",
   "metadata": {},
   "source": [
    "### Q-Learning"
   ]
  },
  {
   "cell_type": "markdown",
   "id": "0fdb53fd-f870-42cd-8629-8fb2a452ca71",
   "metadata": {},
   "source": [
    "```Q(s,a)=Q(s,a)+α[r+γmaxuQ(s′,u)−Q(s,a))]```"
   ]
  },
  {
   "cell_type": "code",
   "execution_count": 347,
   "id": "a928efd6-f09e-40e4-94ad-c7c4b261231d",
   "metadata": {},
   "outputs": [],
   "source": [
    "def q_learning():\n",
    "    env = RoomEnv(ROOM)\n",
    "    rows = len(ROOM)\n",
    "    cols = len(ROOM[0])\n",
    "    \n",
    "    states = rows * cols\n",
    "\n",
    "    q_table = np.zeros([states, env.action_space.n])\n",
    "\n",
    "    alpha = 0.1\n",
    "    gamma = 0.6\n",
    "    epsilon = 0.1\n",
    "\n",
    "    attempts = Attempts('Q-Learning')\n",
    "\n",
    "    for i in range(ATTEMPTS):\n",
    "        attempt = attempts.add_attempt()\n",
    "\n",
    "        state = env.reset()\n",
    "        done = False\n",
    "\n",
    "        while not done:\n",
    "            state_index = state_to_index(state, rows)\n",
    "            if random.uniform(0, 1) < epsilon:\n",
    "                action = env.action_space.sample()\n",
    "            else:\n",
    "                action = np.argmax(q_table[state_index])\n",
    "\n",
    "            attempts.add_action(action)\n",
    "\n",
    "            next_state, reward, done, info = env.step(action)\n",
    "            next_state_index = state_to_index(next_state, rows)\n",
    "\n",
    "            old_value = q_table[state_index, action]\n",
    "            next_max = np.max(q_table[next_state_index])\n",
    "\n",
    "            new_value = (1 - alpha) * old_value + alpha * (reward + gamma * next_max)\n",
    "            q_table[state_index, action] = new_value\n",
    "\n",
    "            if reward == MAX_PENALTY:\n",
    "                attempts.add_penalty()\n",
    "\n",
    "            state = next_state\n",
    "            attempts.add_epoch()\n",
    "    return attempts, q_table"
   ]
  },
  {
   "cell_type": "code",
   "execution_count": 348,
   "id": "10e0e044-64c4-4858-8dfc-aec103bbf60b",
   "metadata": {},
   "outputs": [],
   "source": [
    "q_attempts, q_table = q_learning()"
   ]
  },
  {
   "cell_type": "code",
   "execution_count": 349,
   "id": "1e11200b-9b3d-4ddb-8288-5e951c507e7d",
   "metadata": {},
   "outputs": [
    {
     "data": {
      "text/plain": [
       "array([[-24.99461641, -25.15960456, -24.99461355, -24.70345943],\n",
       "       [-24.98793789, -24.98772482, -28.49364701, -24.90694594],\n",
       "       [-24.88861338, -24.948332  , -27.92108728, -22.30951079],\n",
       "       [-24.87948273, -26.21395823, -22.50928442, -24.68475699],\n",
       "       [-24.95402576, -29.09904811, -29.3986481 , -24.95522776],\n",
       "       [-22.58482846, -26.08456367, -24.85331642, -24.81955292],\n",
       "       [  0.        ,   0.        ,   0.        ,   0.        ],\n",
       "       [  0.        ,   0.        ,   0.        ,   0.        ],\n",
       "       [-30.40291482, -24.53116156, -24.98296382, -32.09705985],\n",
       "       [-25.59083641, -24.88283777, -22.31568262, -24.29565215],\n",
       "       [-19.7463742 , -23.31093052, -24.37461335, -24.71967203],\n",
       "       [  0.        ,   0.        ,   0.        ,   0.        ],\n",
       "       [-24.93321984, -26.59861545, -24.9334239 , -25.6109588 ],\n",
       "       [-25.00280408, -24.99807739, -23.86178549, -24.96433329],\n",
       "       [-24.43257973, -23.55037875, -24.74952115, -24.54423674],\n",
       "       [-22.42916846, -22.61245312, -22.28315488, -21.88847425],\n",
       "       [-24.11115924, -24.94714798, -23.59337209, -24.17300857],\n",
       "       [-22.73132251, -22.56111457, -21.76815481, -23.13309779],\n",
       "       [  0.        ,   0.        ,   0.        ,   0.        ],\n",
       "       [-28.26096982, -30.61889896, -24.99090142, -24.99077127],\n",
       "       [-23.76620589, -24.19549387, -23.86334267, -19.6706354 ],\n",
       "       [-16.37773689, -21.62884038, -18.37850736, -19.13218567],\n",
       "       [-20.52316517, -20.87857186, -20.93565692, -21.132811  ],\n",
       "       [-22.36091614, -22.40555891, -23.13232197, -23.60528403],\n",
       "       [-23.90155579, -23.76004994, -24.84702824, -23.80676791]])"
      ]
     },
     "execution_count": 349,
     "metadata": {},
     "output_type": "execute_result"
    }
   ],
   "source": [
    "q_table"
   ]
  },
  {
   "cell_type": "code",
   "execution_count": 350,
   "id": "0143a6fe-36cd-4d23-b969-8dcd467994ea",
   "metadata": {},
   "outputs": [
    {
     "data": {
      "text/html": [
       "<b>Epoch</b>: 23; <b>Penalties</b>: 2<table class='room'><tr><td class='visited'>V</td><td class='visited'>V</td><td class='visited'>V</td><td class='visited'>V</td><td class='visited'>V</td></tr><tr><td class='visited'>V</td><td class='wall'>#</td><td class='wall'>#</td><td class='visited'>V</td><td class='visited'>V</td></tr><tr><td class='visited'>V</td><td class='wall'>#</td><td class='visited'>V</td><td class='visited'>V</td><td class='visited'>V</td></tr><tr><td class='visited'>V</td><td class='cleaner'>C</td><td class='visited'>V</td><td class='wall'>#</td><td class='visited'>V</td></tr><tr><td class='visited'>V</td><td class='visited'>V</td><td class='visited'>V</td><td class='visited'>V</td><td class='visited'>V</td></tr></table>"
      ],
      "text/plain": [
       "<IPython.core.display.HTML object>"
      ]
     },
     "metadata": {},
     "output_type": "display_data"
    }
   ],
   "source": [
    "show_attempt(q_attempts.best_attempt()[\"actions\"])"
   ]
  },
  {
   "cell_type": "markdown",
   "id": "42489fc0-b878-4a89-9db4-0bcd89531239",
   "metadata": {},
   "source": [
    "### SARSA"
   ]
  },
  {
   "cell_type": "markdown",
   "id": "240378f0-87b3-485b-a74d-ab1c1ab9a566",
   "metadata": {},
   "source": [
    "```Q(s,a)=Q(s,a)+α[r+γQ(s′,a′)−Q(s,a))]```"
   ]
  },
  {
   "cell_type": "code",
   "execution_count": 351,
   "id": "2f783225-5619-4b70-bb66-e9266ac3c217",
   "metadata": {},
   "outputs": [],
   "source": [
    "def sarsa():\n",
    "    env = RoomEnv(ROOM)\n",
    "    rows = len(ROOM)\n",
    "    cols = len(ROOM[0])\n",
    "    \n",
    "    states = rows * cols\n",
    "\n",
    "    q_table = np.zeros([states, env.action_space.n])\n",
    "\n",
    "    alpha = 0.1\n",
    "    gamma = 0.9\n",
    "    epsilon = 0.1\n",
    "\n",
    "    attempts = Attempts('SARSA')\n",
    "    \n",
    "    def get_action(state_index):\n",
    "        if random.uniform(0, 1) < epsilon:\n",
    "            return env.action_space.sample()\n",
    "        else:\n",
    "            return np.argmax(q_table[state_index])\n",
    "\n",
    "    def update(state_index, next_state_index, reward, action, next_action):\n",
    "        predict = q_table[state_index, action]\n",
    "        target = reward + gamma * q_table[next_state_index, next_action]\n",
    "        q_table[state_index, action] = q_table[state_index, action] + alpha * (target - predict)\n",
    "\n",
    "    for i in range(200):\n",
    "        attempt = attempts.add_attempt()\n",
    "\n",
    "        state = env.reset()\n",
    "        done = False\n",
    "        state_index = state_to_index(state, rows)\n",
    "        action = get_action(state_index)\n",
    "\n",
    "        while not done:\n",
    "        #for i in range(1000):\n",
    "            next_state, reward, done, info = env.step(action)\n",
    "            next_state_index = state_to_index(next_state, rows)\n",
    "            attempts.add_action(action)\n",
    " \n",
    "            #Choosing the next action\n",
    "            next_action = get_action(next_state_index)\n",
    "         \n",
    "            #Learning the Q-value\n",
    "            update(state_index, next_state_index, reward, action, next_action)\n",
    "\n",
    "            if reward == MAX_PENALTY:\n",
    "                attempts.add_penalty()\n",
    "                \n",
    "            state = next_state\n",
    "            action = next_action\n",
    "            state_index = state_to_index(state, rows)\n",
    "            attempts.add_epoch()\n",
    "    return attempts, q_table"
   ]
  },
  {
   "cell_type": "code",
   "execution_count": 352,
   "id": "fbbaddf7-6206-4a45-be69-406851fef441",
   "metadata": {},
   "outputs": [],
   "source": [
    "sarsa_attempts, sq_table = sarsa()"
   ]
  },
  {
   "cell_type": "code",
   "execution_count": 353,
   "id": "a873566c-af76-4afa-a071-d9263920584c",
   "metadata": {},
   "outputs": [
    {
     "data": {
      "text/plain": [
       "array([[-62.39856826, -62.60198127, -62.63374392, -58.21312737],\n",
       "       [-60.43106867, -60.29236654, -59.95040824, -57.47856956],\n",
       "       [-59.55923325, -60.11349289, -59.07219543, -57.09036331],\n",
       "       [-59.10707031, -58.53275412, -58.47858927, -59.1765153 ],\n",
       "       [-59.4198352 , -58.36798312, -60.27344734, -60.00261553],\n",
       "       [-58.34473075, -59.19844933, -60.2932356 , -59.63148457],\n",
       "       [  0.        ,   0.        ,   0.        ,   0.        ],\n",
       "       [  0.        ,   0.        ,   0.        ,   0.        ],\n",
       "       [-57.88689463, -56.08800162, -57.74937923, -57.67053345],\n",
       "       [-58.10230592, -57.62145665, -57.88337102, -57.97032561],\n",
       "       [-59.00728578, -60.20628484, -60.33037524, -60.22360135],\n",
       "       [  0.        ,   0.        ,   0.        ,   0.        ],\n",
       "       [-60.432629  , -58.39045109, -60.56449153, -59.68140329],\n",
       "       [-57.94289549, -58.2702175 , -58.24433027, -58.82123677],\n",
       "       [-59.57352727, -58.42526584, -58.94209806, -60.28794258],\n",
       "       [-57.63632625, -59.00865591, -58.74811326, -58.86113484],\n",
       "       [-58.8599018 , -58.6834994 , -59.0429795 , -58.65893914],\n",
       "       [-59.36670618, -58.120973  , -60.47762448, -60.0094251 ],\n",
       "       [  0.        ,   0.        ,   0.        ,   0.        ],\n",
       "       [-58.00962532, -55.3112079 , -58.00348518, -57.76211794],\n",
       "       [-59.10787174, -59.22749953, -59.42521923, -59.02571306],\n",
       "       [-58.75723667, -58.95469627, -57.93622031, -58.76982243],\n",
       "       [-57.62333757, -57.70222047, -57.84242689, -57.27437981],\n",
       "       [-59.67658254, -59.51941483, -59.45089804, -58.89442804],\n",
       "       [-56.67447162, -56.89578747, -54.61456434, -56.88513508]])"
      ]
     },
     "execution_count": 353,
     "metadata": {},
     "output_type": "execute_result"
    }
   ],
   "source": [
    "sq_table"
   ]
  },
  {
   "cell_type": "code",
   "execution_count": 354,
   "id": "708bf75f-cece-4ab0-96e2-d11ae7ab4435",
   "metadata": {},
   "outputs": [
    {
     "data": {
      "text/html": [
       "<b>Epoch</b>: 68; <b>Penalties</b>: 5<table class='room'><tr><td class='visited'>V</td><td class='visited'>V</td><td class='visited'>V</td><td class='visited'>V</td><td class='cleaner'>C</td></tr><tr><td class='visited'>V</td><td class='wall'>#</td><td class='wall'>#</td><td class='visited'>V</td><td class='visited'>V</td></tr><tr><td class='visited'>V</td><td class='wall'>#</td><td class='visited'>V</td><td class='visited'>V</td><td class='visited'>V</td></tr><tr><td class='visited'>V</td><td class='visited'>V</td><td class='visited'>V</td><td class='wall'>#</td><td class='visited'>V</td></tr><tr><td class='visited'>V</td><td class='visited'>V</td><td class='visited'>V</td><td class='visited'>V</td><td class='visited'>V</td></tr></table>"
      ],
      "text/plain": [
       "<IPython.core.display.HTML object>"
      ]
     },
     "metadata": {},
     "output_type": "display_data"
    }
   ],
   "source": [
    "show_attempt(sarsa_attempts.best_attempt()[\"actions\"])"
   ]
  },
  {
   "cell_type": "markdown",
   "id": "e617371d-3b69-4133-9d4f-f47a3de1ffc1",
   "metadata": {},
   "source": [
    "### Metrics"
   ]
  },
  {
   "cell_type": "code",
   "execution_count": 355,
   "id": "a968d38d-3284-4156-b7f1-d19617200c9f",
   "metadata": {},
   "outputs": [
    {
     "data": {
      "text/html": [
       "<div>\n",
       "<style scoped>\n",
       "    .dataframe tbody tr th:only-of-type {\n",
       "        vertical-align: middle;\n",
       "    }\n",
       "\n",
       "    .dataframe tbody tr th {\n",
       "        vertical-align: top;\n",
       "    }\n",
       "\n",
       "    .dataframe thead th {\n",
       "        text-align: right;\n",
       "    }\n",
       "</style>\n",
       "<table border=\"1\" class=\"dataframe\">\n",
       "  <thead>\n",
       "    <tr style=\"text-align: right;\">\n",
       "      <th></th>\n",
       "      <th>min_epochs</th>\n",
       "      <th>avg_epochs</th>\n",
       "      <th>avg_penalties</th>\n",
       "      <th>min_penalties</th>\n",
       "    </tr>\n",
       "    <tr>\n",
       "      <th>name</th>\n",
       "      <th></th>\n",
       "      <th></th>\n",
       "      <th></th>\n",
       "      <th></th>\n",
       "    </tr>\n",
       "  </thead>\n",
       "  <tbody>\n",
       "    <tr>\n",
       "      <th>BRUTE FORCE</th>\n",
       "      <td>72</td>\n",
       "      <td>263.870</td>\n",
       "      <td>99.845</td>\n",
       "      <td>23</td>\n",
       "    </tr>\n",
       "    <tr>\n",
       "      <th>Q-Learning</th>\n",
       "      <td>23</td>\n",
       "      <td>685.875</td>\n",
       "      <td>323.005</td>\n",
       "      <td>0</td>\n",
       "    </tr>\n",
       "    <tr>\n",
       "      <th>SARSA</th>\n",
       "      <td>68</td>\n",
       "      <td>227.995</td>\n",
       "      <td>19.085</td>\n",
       "      <td>0</td>\n",
       "    </tr>\n",
       "  </tbody>\n",
       "</table>\n",
       "</div>"
      ],
      "text/plain": [
       "             min_epochs  avg_epochs  avg_penalties  min_penalties\n",
       "name                                                             \n",
       "BRUTE FORCE          72     263.870         99.845             23\n",
       "Q-Learning           23     685.875        323.005              0\n",
       "SARSA                68     227.995         19.085              0"
      ]
     },
     "execution_count": 355,
     "metadata": {},
     "output_type": "execute_result"
    }
   ],
   "source": [
    "df = pd.DataFrame([bf_attempts.metrics(), \n",
    "                   q_attempts.metrics(),\n",
    "                   sarsa_attempts.metrics()]).set_index(\"name\")\n",
    "df"
   ]
  }
 ],
 "metadata": {
  "kernelspec": {
   "display_name": "Python 3 (ipykernel)",
   "language": "python",
   "name": "python3"
  },
  "language_info": {
   "codemirror_mode": {
    "name": "ipython",
    "version": 3
   },
   "file_extension": ".py",
   "mimetype": "text/x-python",
   "name": "python",
   "nbconvert_exporter": "python",
   "pygments_lexer": "ipython3",
   "version": "3.8.10"
  }
 },
 "nbformat": 4,
 "nbformat_minor": 5
}
